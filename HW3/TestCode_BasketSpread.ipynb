{
 "cells": [
  {
   "cell_type": "markdown",
   "metadata": {},
   "source": [
    "# Basket option implementation based on normal model"
   ]
  },
  {
   "cell_type": "code",
   "execution_count": 57,
   "metadata": {},
   "outputs": [],
   "source": [
    "import numpy as np\n",
    "from option_models import basket\n",
    "from option_models import bsm\n",
    "from option_models import normal"
   ]
  },
  {
   "cell_type": "code",
   "execution_count": 58,
   "metadata": {},
   "outputs": [
    {
     "data": {
      "text/plain": [
       "<module 'option_models.basket' from 'C:\\\\Users\\\\Noam\\\\Documents\\\\GitHub\\\\PHBS_ASP_2018\\\\HW3\\\\option_models\\\\basket.py'>"
      ]
     },
     "execution_count": 58,
     "metadata": {},
     "output_type": "execute_result"
    }
   ],
   "source": [
    "### only run this when you changed the class definition\n",
    "import imp\n",
    "imp.reload(basket)"
   ]
  },
  {
   "cell_type": "code",
   "execution_count": 3,
   "metadata": {},
   "outputs": [
    {
     "name": "stdout",
     "output_type": "stream",
     "text": [
      "[1 0 0 0]\n"
     ]
    }
   ],
   "source": [
    "# A trivial test case 1: \n",
    "# one asset have 100% weight (the others zero)\n",
    "# the case should be equivalent to the BSM or Normal model price\n",
    "\n",
    "spot = np.ones(4) * 100\n",
    "vol = np.ones(4) * 0.4\n",
    "weights = np.array([1, 0, 0, 0])\n",
    "divr = np.zeros(4)\n",
    "intr = 0\n",
    "cor_m = 0.5*np.identity(4) + 0.5\n",
    "texp = 5\n",
    "strike = 120\n",
    "\n",
    "print(weights)\n",
    "\n",
    "np.random.seed(123456)\n",
    "price_basket = basket.basket_price_mc(strike, spot, vol*spot, weights, texp, cor_m, bsm=False)"
   ]
  },
  {
   "cell_type": "code",
   "execution_count": 4,
   "metadata": {},
   "outputs": [
    {
     "name": "stdout",
     "output_type": "stream",
     "text": [
      "26.7639097343 26.5708459579\n"
     ]
    }
   ],
   "source": [
    "# Compare the price to normal model formula\n",
    "\n",
    "norm1 = normal.NormalModel(40)\n",
    "price_norm = norm1.price(strike=120, spot=100, texp=texp, cp_sign=1)\n",
    "print(price_basket, price_norm)"
   ]
  },
  {
   "cell_type": "code",
   "execution_count": 5,
   "metadata": {},
   "outputs": [
    {
     "name": "stdout",
     "output_type": "stream",
     "text": [
      "[[ 1.      0.9999  0.9999  0.9999]\n",
      " [ 0.9999  1.      0.9999  0.9999]\n",
      " [ 0.9999  0.9999  1.      0.9999]\n",
      " [ 0.9999  0.9999  0.9999  1.    ]]\n",
      "26.7613956159 26.5708459579\n"
     ]
    }
   ],
   "source": [
    "# A trivial test case 2\n",
    "# all assets almost perfectly correlated:\n",
    "# the case should be equivalent to the BSM or Normal model price\n",
    "\n",
    "spot = np.ones(4) * 100\n",
    "vol = np.ones(4) * 0.4\n",
    "weights = np.ones(4) * 0.25\n",
    "divr = np.zeros(4)\n",
    "intr = 0\n",
    "cor_m = 0.0001*np.identity(4) + 0.9999*np.ones((4,4))\n",
    "texp = 5\n",
    "strike = 120\n",
    "\n",
    "print( cor_m )\n",
    "\n",
    "np.random.seed(123456)\n",
    "price_basket = basket.basket_price_mc(strike, spot, vol*spot, weights, texp, cor_m, bsm=False)\n",
    "print(price_basket, price_norm)"
   ]
  },
  {
   "cell_type": "code",
   "execution_count": null,
   "metadata": {
    "collapsed": true
   },
   "outputs": [],
   "source": []
  },
  {
   "cell_type": "code",
   "execution_count": 16,
   "metadata": {
    "collapsed": true
   },
   "outputs": [],
   "source": [
    "# A full test set for basket option with exact price\n",
    "\n",
    "spot = np.ones(4) * 100\n",
    "vol = np.ones(4) * 0.4\n",
    "weights = np.ones(4) * 0.25\n",
    "divr = np.zeros(4)\n",
    "intr = 0\n",
    "cor_m = 0.5*np.identity(4) + 0.5\n",
    "texp = 5\n",
    "strike = 100\n",
    "price_exact = 28.0073695"
   ]
  },
  {
   "cell_type": "code",
   "execution_count": 17,
   "metadata": {},
   "outputs": [
    {
     "data": {
      "text/plain": [
       "array([[ 1. ,  0.5,  0.5,  0.5],\n",
       "       [ 0.5,  1. ,  0.5,  0.5],\n",
       "       [ 0.5,  0.5,  1. ,  0.5],\n",
       "       [ 0.5,  0.5,  0.5,  1. ]])"
      ]
     },
     "execution_count": 17,
     "metadata": {},
     "output_type": "execute_result"
    }
   ],
   "source": [
    "cor_m"
   ]
  },
  {
   "cell_type": "code",
   "execution_count": 19,
   "metadata": {},
   "outputs": [
    {
     "name": "stdout",
     "output_type": "stream",
     "text": [
      "28.3881270524 28.0073695\n"
     ]
    }
   ],
   "source": [
    "price_basket = basket.basket_price_mc(strike, spot, vol*spot, weights, texp, cor_m, bsm=False)\n",
    "print(price_basket, price_exact)"
   ]
  },
  {
   "cell_type": "markdown",
   "metadata": {},
   "source": [
    "# [To Do] Basket option implementation based on BSM model\n",
    "## Write the similar test for BSM"
   ]
  },
  {
   "cell_type": "code",
   "execution_count": 15,
   "metadata": {},
   "outputs": [],
   "source": [
    "price_basket = basket.basket_price_mc(strike, spot, vol*spot, weights, texp, cor_m, bsm=True)"
   ]
  },
  {
   "cell_type": "code",
   "execution_count": 10,
   "metadata": {},
   "outputs": [
    {
     "name": "stdout",
     "output_type": "stream",
     "text": [
      "[1 0 0 0]\n",
      "28.751631082489702\n"
     ]
    }
   ],
   "source": [
    "# A trivial test case 1: \n",
    "# one asset have 100% weight (the others zero)\n",
    "# the case should be equivalent to the BSM or Normal model price\n",
    "\n",
    "spot = np.ones(4) * 100\n",
    "vol = np.ones(4) * 0.4\n",
    "weights = np.array([1, 0, 0, 0])\n",
    "divr = np.zeros(4)\n",
    "intr = 0\n",
    "cor_m = 0.5*np.identity(4) + 0.5\n",
    "texp = 5\n",
    "strike = 120\n",
    "\n",
    "print(weights)\n",
    "\n",
    "np.random.seed(123456)\n",
    "price_basket = basket.basket_price_mc(strike, spot, vol, weights, texp, cor_m, bsm=True)\n",
    "print(price_basket)"
   ]
  },
  {
   "cell_type": "code",
   "execution_count": 21,
   "metadata": {
    "scrolled": true
   },
   "outputs": [
    {
     "name": "stdout",
     "output_type": "stream",
     "text": [
      "28.751631082489702 28.713486748445934\n"
     ]
    }
   ],
   "source": [
    "# Compare the price to BSM formula\n",
    "\n",
    "spot = np.ones(4) * 100\n",
    "vol = np.ones(4) * 0.4\n",
    "weights = np.array([1, 0, 0, 0])\n",
    "divr = np.zeros(4)\n",
    "intr = 0\n",
    "cor_m = 0.5*np.identity(4) + 0.5\n",
    "texp = 5\n",
    "strike = 120\n",
    "bsm_price = bsm.bsm_price(strike, spot[0], vol[0], texp, intr=0.0, divr=0.0, cp_sign=1)\n",
    "\n",
    "print(price_basket, bsm_price)"
   ]
  },
  {
   "cell_type": "code",
   "execution_count": 24,
   "metadata": {},
   "outputs": [
    {
     "name": "stdout",
     "output_type": "stream",
     "text": [
      "28.738539105928172 28.713486748445934\n"
     ]
    }
   ],
   "source": [
    "# A trivial test case 2\n",
    "# all assets almost perfectly correlated:\n",
    "# the case should be equivalent to the BSM or Normal model price\n",
    "\n",
    "spot = np.ones(4) * 100\n",
    "vol = np.ones(4) * 0.4\n",
    "weights = np.ones(4) * 0.25\n",
    "divr = np.zeros(4)\n",
    "intr = 0\n",
    "cor_m = 0.0001*np.identity(4) + 0.9999*np.ones((4,4))\n",
    "texp = 5\n",
    "strike = 120\n",
    "\n",
    "np.random.seed(123456)\n",
    "price_basket = basket.basket_price_mc(strike, spot, vol, weights, texp, cor_m, bsm=True)\n",
    "print(price_basket, bsm_price)"
   ]
  },
  {
   "cell_type": "code",
   "execution_count": 28,
   "metadata": {},
   "outputs": [
    {
     "name": "stdout",
     "output_type": "stream",
     "text": [
      "27.42010965333697 28.0073695\n"
     ]
    }
   ],
   "source": [
    "# A full test set for basket option with exact price\n",
    "\n",
    "spot = np.ones(4) * 100\n",
    "vol = np.ones(4) * 0.4\n",
    "weights = np.ones(4) * 0.25\n",
    "divr = np.zeros(4)\n",
    "intr = 0\n",
    "cor_m = 0.5*np.identity(4) + 0.5\n",
    "texp = 5\n",
    "strike = 100\n",
    "\n",
    "price_exact = 28.0073695\n",
    "price_basket = basket.basket_price_mc(strike, spot, vol, weights, texp, cor_m, bsm=True)\n",
    "\n",
    "print(price_basket, price_exact)"
   ]
  },
  {
   "cell_type": "markdown",
   "metadata": {},
   "source": [
    "# Spread option implementation based on normal model"
   ]
  },
  {
   "cell_type": "code",
   "execution_count": 3,
   "metadata": {
    "collapsed": true
   },
   "outputs": [],
   "source": [
    "# A full test set for spread option\n",
    "\n",
    "spot = np.array([100, 96])\n",
    "vol = np.array([0.2, 0.1])\n",
    "weights = np.array([1, -1])\n",
    "divr = np.array([1, 1])*0.05\n",
    "intr = 0.1\n",
    "cor_m = np.array([[1, 0.5], [0.5, 1]])\n",
    "texp = 1\n",
    "strike = 0\n",
    "price_exact = 8.5132252"
   ]
  },
  {
   "cell_type": "code",
   "execution_count": 4,
   "metadata": {},
   "outputs": [
    {
     "name": "stdout",
     "output_type": "stream",
     "text": [
      "8.34885280723 8.5132252\n"
     ]
    }
   ],
   "source": [
    "# MC price based on normal model\n",
    "# make sure that the prices are similar\n",
    "\n",
    "np.random.seed(123456)\n",
    "price_spread = basket.basket_price_mc(strike, spot, vol*spot, weights, texp, cor_m, intr=intr, divr=divr, bsm=False)\n",
    "print(price_spread, price_exact)"
   ]
  },
  {
   "cell_type": "markdown",
   "metadata": {},
   "source": [
    "# Spread option implementation based on BSM model"
   ]
  },
  {
   "cell_type": "code",
   "execution_count": 6,
   "metadata": {},
   "outputs": [],
   "source": [
    "# Once the implementation is finished the BSM model price should also work\n",
    "price_spread = basket.basket_price_mc(\n",
    "    strike, spot, vol*spot, weights, texp, cor_m, intr=intr, divr=divr, bsm=True)"
   ]
  },
  {
   "cell_type": "code",
   "execution_count": 7,
   "metadata": {},
   "outputs": [
    {
     "name": "stdout",
     "output_type": "stream",
     "text": [
      "8.51322522955\n"
     ]
    }
   ],
   "source": [
    "# You also test Kirk's approximation\n",
    "price_kirk = basket.spread_price_kirk(strike, spot, vol, texp, 0.5, intr, divr)\n",
    "print(price_kirk)"
   ]
  },
  {
   "cell_type": "markdown",
   "metadata": {},
   "source": [
    "# [To Do] Complete the implementation of basket_price_norm_analytic\n",
    "# Compare the MC stdev of BSM basket prices from with and without CV"
   ]
  },
  {
   "cell_type": "code",
   "execution_count": 8,
   "metadata": {
    "collapsed": true
   },
   "outputs": [],
   "source": [
    "# The basket option example from above\n",
    "\n",
    "spot = np.ones(4) * 100\n",
    "vol = np.ones(4) * 0.4\n",
    "weights = np.ones(4) * 0.25\n",
    "divr = np.zeros(4)\n",
    "intr = 0\n",
    "cor_m = 0.5*np.identity(4) + 0.5\n",
    "texp = 5\n",
    "strike = 100"
   ]
  },
  {
   "cell_type": "code",
   "execution_count": 35,
   "metadata": {},
   "outputs": [
    {
     "name": "stdout",
     "output_type": "stream",
     "text": [
      "28.209479177387816\n"
     ]
    }
   ],
   "source": [
    "### Make sure that the analytic normal price is correctly implemented\n",
    "Normal_Analytic = basket.basket_price_norm_analytic(strike, spot, vol*spot, weights, texp, cor_m, intr=intr, divr=divr, cp_sign=1)\n",
    "print(Normal_Analytic)"
   ]
  },
  {
   "cell_type": "code",
   "execution_count": 45,
   "metadata": {},
   "outputs": [
    {
     "name": "stdout",
     "output_type": "stream",
     "text": [
      "[28.277454723250504, 0.4133815146929152]\n"
     ]
    }
   ],
   "source": [
    "#Price of BSM with CV\n",
    "\n",
    "price_basket_cv = basket.basket_price_mc_cv(strike, spot, vol, weights, texp, cor_m, intr=0, divr=0, cp_sign=1, n_samples=10000)\n",
    "print(price_basket_cv)"
   ]
  },
  {
   "cell_type": "code",
   "execution_count": 44,
   "metadata": {},
   "outputs": [
    {
     "name": "stdout",
     "output_type": "stream",
     "text": [
      "27.42010965333697\n"
     ]
    }
   ],
   "source": [
    "#Price of BSM without CV\n",
    "\n",
    "price_basket = basket.basket_price_mc(strike, spot, vol, weights, texp, cor_m, bsm=True)\n",
    "print(price_basket)"
   ]
  },
  {
   "cell_type": "code",
   "execution_count": 31,
   "metadata": {},
   "outputs": [],
   "source": [
    "# Run below about 100 times and get the mean and stdev\n",
    "\n",
    "### Returns 2 prices, without CV and with CV \n",
    "# price_basket = basket.basket_price_mc_cv(strike, spot, vol, weights, texp, cor_m)"
   ]
  },
  {
   "cell_type": "code",
   "execution_count": 81,
   "metadata": {},
   "outputs": [
    {
     "ename": "ValueError",
     "evalue": "setting an array element with a sequence.",
     "output_type": "error",
     "traceback": [
      "\u001b[1;31m---------------------------------------------------------------------------\u001b[0m",
      "\u001b[1;31mValueError\u001b[0m                                Traceback (most recent call last)",
      "\u001b[1;32m<ipython-input-81-9a5af2234b43>\u001b[0m in \u001b[0;36m<module>\u001b[1;34m()\u001b[0m\n\u001b[0;32m      4\u001b[0m     \u001b[1;31m#price[k] = basket_price_100(strike, spot, vol, weights, texp, cor_m)\u001b[0m\u001b[1;33m\u001b[0m\u001b[1;33m\u001b[0m\u001b[0m\n\u001b[0;32m      5\u001b[0m     price[k]= basket.basket_price_mc_cv(strike, spot, vol, weights, texp, cor_m, \n\u001b[1;32m----> 6\u001b[1;33m     intr=0.0, divr=0.0, cp_sign=1, n_samples=10000)\n\u001b[0m\u001b[0;32m      7\u001b[0m     \u001b[1;31m#price_100 = np.mean(price)\u001b[0m\u001b[1;33m\u001b[0m\u001b[1;33m\u001b[0m\u001b[0m\n\u001b[0;32m      8\u001b[0m     \u001b[1;31m#std = np.std(price)\u001b[0m\u001b[1;33m\u001b[0m\u001b[1;33m\u001b[0m\u001b[0m\n",
      "\u001b[1;31mValueError\u001b[0m: setting an array element with a sequence."
     ]
    }
   ],
   "source": [
    "price = np.zeros(100)\n",
    "\n",
    "for k in range(100):\n",
    "    #price[k] = basket_price_100(strike, spot, vol, weights, texp, cor_m)\n",
    "    price[k]= basket.basket_price_mc_cv(strike, spot, vol, weights, texp, cor_m, \n",
    "    intr=0.0, divr=0.0, cp_sign=1, n_samples=10000)\n",
    "    #price_100 = np.mean(price)\n",
    "    #std = np.std(price)\n",
    "print(price)\n",
    "\n",
    "#didnt know how to fix this error, but was trying to reach a point where the mean and Std with the CV is lower than that without CV. "
   ]
  },
  {
   "cell_type": "code",
   "execution_count": 66,
   "metadata": {},
   "outputs": [
    {
     "name": "stdout",
     "output_type": "stream",
     "text": [
      "[[27.566752423198636, -0.3198693306582996], [28.277454723250504, 0.4133815146929152], [27.663184979854396, -0.2860155064411245], [28.386459838097288, 1.099961050438882], [28.519177352318085, 0.6465877440477463], [28.555726580815147, 0.9884976616789167], [28.08557385436927, -0.5040761472418005], [26.999953338757145, -1.6626660512969806], [28.550312461653782, 0.8911280771656749], [28.312539298260614, 0.6221984448045106], [27.810811700189294, -0.35012821520894377], [27.05530549127701, -1.3089774744044256], [27.64108778475085, 0.2942764072579891], [27.84883619711572, -0.6363257536663447], [29.755756256507144, 1.7619569458151254], [28.737788668065104, 1.1117696251963238], [28.35347981872284, 0.44073699035187985], [27.52182730123382, -0.41997025397722965], [27.517046932007222, -1.4460356036072426], [27.715539967588825, -0.053388787689865325], [28.27165705526017, 0.13915052152473706], [28.646723792688462, 0.36892345667382287], [27.23953892390427, -1.4225889500473698], [27.53906219519273, -0.4681556607619086], [27.585858197419743, -0.3806738446469353], [27.199007913323847, -1.055850558672958], [26.97662322807117, -0.6537060649249611], [28.319289992278733, 0.2196309655983555], [28.463224038764846, 0.9008926789144844], [28.601622390468687, -0.010141544022808091], [28.164790178661455, 0.3964695321295224], [27.57363981127932, -0.3004484410417305], [26.735620790361445, -0.652762993227487], [28.333352310568113, 0.40229197813007644], [29.162013056997157, 1.0483713570082607], [28.511453132674774, 1.498585038893843], [27.471147475936846, -0.7791742131824151], [28.60626140188309, 0.47770606654992775], [27.618758422814217, -0.4020739354768388], [28.014561780738518, -0.10676999140897081], [27.09167866128469, -0.35391697712821824], [27.726776653471426, -0.7998994644414239], [27.82358534976599, -0.5100806907887971], [28.158932592350833, 0.17188548217485433], [27.781900453856903, 0.8758933761988992], [27.019318596837657, -1.440520639032222], [27.269493419995282, -1.1332479018901083], [28.727674354677017, 0.8905146938520154], [27.953783167983907, -0.1390635724831597], [27.912595082717434, 0.4239625305404786], [27.893755806469684, -0.3368910298020644], [28.30279163822139, -0.17121438951492962], [27.537706509355754, -0.8640846954002761], [27.914777808512213, 0.3511173535595695], [27.27829013415692, -0.4690145690479426], [28.728855688614154, 0.40629607898249276], [27.851602314069797, -0.05374464646616417], [26.25252984346039, -1.9795485459822295], [26.85028203594291, -0.5558748787981997], [27.869866352257336, -0.07896727133804404], [29.045880496659077, 1.761867030348661], [27.721823890493113, 0.06453330624774978], [27.59699359217599, -0.382848795491995], [28.606705669034355, 0.9578404291088845], [27.488286076561238, -0.3216883908738488], [27.672604379973386, -0.8951309060666794], [27.150887924427305, -1.1049789928358678], [27.170291599562123, -0.5331587680692245], [27.200111141852652, -0.7031781457231077], [27.74008037029648, 0.22751624527456826], [26.532750934264698, -1.0729374516307217], [28.577336147048324, 1.2965341668651114], [25.98488132989739, -1.859829123272263], [27.046079067024305, -1.03541437705913], [28.659548431304838, 0.8521360660947082], [26.936125787223748, -1.0508600000488997], [27.851238359132722, -0.4849447776542668], [28.021467952808294, 0.1504062780733939], [28.57168779463175, 0.6154065930641188], [29.12047432972737, 0.6906104900607808], [27.34739106299475, 0.037203816301612846], [28.86303565664455, 1.2009434052756838], [28.041362944752915, -0.03149185898133666], [28.87452430860639, 0.8295257076054448], [27.6112988514924, -0.29649459174610016], [28.25529417304342, 0.2858844780184455], [27.11132205849897, -1.1616285636949613], [27.826071255412238, -0.5008794698093233], [28.556003210530925, 0.324934937188587], [27.755613886407534, -0.0517443117950549], [27.461847514094227, 0.04576873982392726], [28.140939629917952, 0.7651689409273779], [27.23354293575357, -0.42081368172739175], [27.580762870617335, -0.36814276011910607], [28.858299880267378, 0.26202783707696753], [27.830807914617584, 0.6559781876829689], [28.024997628435145, -0.27789831689562305], [27.51548885797528, -0.8377691918882029], [26.91265149905188, -1.1403500748375066], [27.32073212572222, -0.7635511640132684]]\n",
      "None\n"
     ]
    }
   ],
   "source": [
    "Basket_CV = basket_price_100(strike, spot, vol, weights, texp, cor_m, intr=0, divr=0, cp_sign=1, n_samples = 10000, m_repeat=100)\n",
    "print(Basket_CV)"
   ]
  },
  {
   "cell_type": "code",
   "execution_count": null,
   "metadata": {},
   "outputs": [],
   "source": []
  }
 ],
 "metadata": {
  "anaconda-cloud": {},
  "kernelspec": {
   "display_name": "Python 3",
   "language": "python",
   "name": "python3"
  },
  "language_info": {
   "codemirror_mode": {
    "name": "ipython",
    "version": 3
   },
   "file_extension": ".py",
   "mimetype": "text/x-python",
   "name": "python",
   "nbconvert_exporter": "python",
   "pygments_lexer": "ipython3",
   "version": "3.6.5"
  }
 },
 "nbformat": 4,
 "nbformat_minor": 1
}
