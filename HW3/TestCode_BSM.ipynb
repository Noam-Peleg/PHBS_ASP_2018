{
 "cells": [
  {
   "cell_type": "markdown",
   "metadata": {
    "collapsed": true
   },
   "source": [
    "# Test BSM model implementation\n",
    "Repeat the same for normal model implementation"
   ]
  },
  {
   "cell_type": "code",
   "execution_count": 18,
   "metadata": {},
   "outputs": [],
   "source": [
    "import numpy as np"
   ]
  },
  {
   "cell_type": "code",
   "execution_count": 19,
   "metadata": {},
   "outputs": [],
   "source": [
    "# import\n",
    "from option_models import bsm\n",
    "from option_models import normal"
   ]
  },
  {
   "cell_type": "code",
   "execution_count": 20,
   "metadata": {},
   "outputs": [
    {
     "data": {
      "text/plain": [
       "<module 'option_models.normal' from 'C:\\\\Users\\\\Noam\\\\Documents\\\\GitHub\\\\PHBS_ASP_2018\\\\HW3\\\\option_models\\\\normal.py'>"
      ]
     },
     "execution_count": 20,
     "metadata": {},
     "output_type": "execute_result"
    }
   ],
   "source": [
    "### only run this when you changed the class definition\n",
    "import imp\n",
    "imp.reload(bsm)\n",
    "imp.reload(normal)"
   ]
  },
  {
   "cell_type": "code",
   "execution_count": null,
   "metadata": {},
   "outputs": [],
   "source": []
  },
  {
   "cell_type": "markdown",
   "metadata": {
    "collapsed": true
   },
   "source": [
    "### Price"
   ]
  },
  {
   "cell_type": "code",
   "execution_count": 21,
   "metadata": {},
   "outputs": [],
   "source": [
    "# create model\n",
    "bsm1 = bsm.BsmModel(0.2)"
   ]
  },
  {
   "cell_type": "code",
   "execution_count": 22,
   "metadata": {},
   "outputs": [
    {
     "name": "stdout",
     "output_type": "stream",
     "text": [
      "3.1062836665495652\n"
     ]
    }
   ],
   "source": [
    "# price\n",
    "strike = 102\n",
    "spot = 100\n",
    "texp = 0.25\n",
    "\n",
    "price = bsm1.price(strike=strike, spot=spot, texp=texp, cp_sign=1)\n",
    "print(price)\n",
    "assert( abs(price - 3.10628366655) < 1e-10 )"
   ]
  },
  {
   "cell_type": "markdown",
   "metadata": {},
   "source": [
    "### Implied vol"
   ]
  },
  {
   "cell_type": "code",
   "execution_count": 12,
   "metadata": {},
   "outputs": [],
   "source": [
    "# Randomly generate spot/strike/expiry/intr/divr/cp_sign\n",
    "# Then test implied volatility\n",
    "\n",
    "for k in range(100):\n",
    "    spot = np.random.uniform(80,100)\n",
    "    strike = np.random.uniform(80,100)\n",
    "    vol = np.random.uniform(0.0001, 0.4)\n",
    "    texp = np.random.uniform(0.1, 5)\n",
    "    intr = np.random.uniform(0, 0.3)\n",
    "    divr = np.random.uniform(0, 0.3)\n",
    "    cp_sign = 1 if np.random.rand() > 0.5 else -1\n",
    "\n",
    "    #print( spot, strike, vol, texp, intr, divr, cp_sign)\n",
    "\n",
    "    bsm2 = bsm.BsmModel(vol=vol, intr=intr, divr=divr)\n",
    "    price = bsm2.price(strike, spot, texp, cp_sign )\n",
    "    \n",
    "    # get implied vol\n",
    "    vol_imp = bsm2.impvol(price, strike, spot, texp=texp, cp_sign=cp_sign)\n",
    "    \n",
    "    # now price option with the obtained implied vol\n",
    "    bsm2.vol = vol_imp\n",
    "    price_imp = bsm2.price(strike, spot, texp, cp_sign )\n",
    "    \n",
    "    # compare the two prices\n",
    "    assert( abs(price - price_imp) < 1e-8 )"
   ]
  },
  {
   "cell_type": "markdown",
   "metadata": {
    "scrolled": true
   },
   "source": [
    "### Delta\n",
    "Verify delta by comparing numerical derivative"
   ]
  },
  {
   "cell_type": "code",
   "execution_count": 28,
   "metadata": {},
   "outputs": [],
   "source": [
    "h = 1e-6\n",
    "vol=0.2"
   ]
  },
  {
   "cell_type": "code",
   "execution_count": 30,
   "metadata": {},
   "outputs": [
    {
     "name": "stdout",
     "output_type": "stream",
     "text": [
      "0.4411610169119095 0.4411610170507174\n"
     ]
    }
   ],
   "source": [
    "delta = bsm1.delta(strike=102, spot=100, texp=0.25, cp_sign=1)\n",
    "price_up = bsm1.price(strike=strike, spot=spot+h, texp=texp, cp_sign=1)\n",
    "price_down = bsm1.price(strike=strike, spot=spot-h, texp=texp, cp_sign=1)\n",
    "delta_numeric = (price_up - price_down)/(2*h)\n",
    "print(delta, delta_numeric)"
   ]
  },
  {
   "cell_type": "code",
   "execution_count": 26,
   "metadata": {},
   "outputs": [],
   "source": [
    "assert(abs(delta - delta_numeric) < 1e-6)"
   ]
  },
  {
   "cell_type": "markdown",
   "metadata": {},
   "source": [
    "### Vega\n",
    "Do similar verification"
   ]
  },
  {
   "cell_type": "code",
   "execution_count": 38,
   "metadata": {},
   "outputs": [],
   "source": [
    "texp=0.25\n",
    "vol=0.2"
   ]
  },
  {
   "cell_type": "code",
   "execution_count": 43,
   "metadata": {},
   "outputs": [
    {
     "ename": "TypeError",
     "evalue": "vega() missing 1 required positional argument: 'texp'",
     "output_type": "error",
     "traceback": [
      "\u001b[1;31m---------------------------------------------------------------------------\u001b[0m",
      "\u001b[1;31mTypeError\u001b[0m                                 Traceback (most recent call last)",
      "\u001b[1;32m<ipython-input-43-dd80070f7465>\u001b[0m in \u001b[0;36m<module>\u001b[1;34m()\u001b[0m\n\u001b[1;32m----> 1\u001b[1;33m \u001b[0mvega\u001b[0m \u001b[1;33m=\u001b[0m \u001b[0mbsm1\u001b[0m\u001b[1;33m.\u001b[0m\u001b[0mvega\u001b[0m\u001b[1;33m(\u001b[0m\u001b[0mstrike\u001b[0m\u001b[1;33m,\u001b[0m \u001b[0mspot\u001b[0m\u001b[1;33m,\u001b[0m \u001b[0mtexp\u001b[0m\u001b[1;33m,\u001b[0m \u001b[0mcp_sign\u001b[0m\u001b[1;33m=\u001b[0m\u001b[1;36m1\u001b[0m\u001b[1;33m)\u001b[0m\u001b[1;33m\u001b[0m\u001b[0m\n\u001b[0m\u001b[0;32m      2\u001b[0m \u001b[0mprice_up\u001b[0m \u001b[1;33m=\u001b[0m \u001b[0mbsm\u001b[0m\u001b[1;33m.\u001b[0m\u001b[0mbsm_price\u001b[0m\u001b[1;33m(\u001b[0m\u001b[0mstrike\u001b[0m\u001b[1;33m=\u001b[0m\u001b[0mstrike\u001b[0m\u001b[1;33m,\u001b[0m \u001b[0mspot\u001b[0m\u001b[1;33m=\u001b[0m\u001b[0mspot\u001b[0m\u001b[1;33m,\u001b[0m \u001b[0mvol\u001b[0m\u001b[1;33m=\u001b[0m\u001b[0mvol\u001b[0m\u001b[1;33m+\u001b[0m\u001b[0mh\u001b[0m\u001b[1;33m,\u001b[0m \u001b[0mtexp\u001b[0m\u001b[1;33m=\u001b[0m\u001b[0mtexp\u001b[0m\u001b[1;33m,\u001b[0m \u001b[0mcp_sign\u001b[0m\u001b[1;33m=\u001b[0m\u001b[1;36m1\u001b[0m\u001b[1;33m)\u001b[0m\u001b[1;33m\u001b[0m\u001b[0m\n\u001b[0;32m      3\u001b[0m \u001b[0mprice_down\u001b[0m \u001b[1;33m=\u001b[0m \u001b[0mbsm\u001b[0m\u001b[1;33m.\u001b[0m\u001b[0mbsm_price\u001b[0m\u001b[1;33m(\u001b[0m\u001b[0mstrike\u001b[0m\u001b[1;33m=\u001b[0m\u001b[0mstrike\u001b[0m\u001b[1;33m,\u001b[0m \u001b[0mspot\u001b[0m\u001b[1;33m=\u001b[0m\u001b[0mspot\u001b[0m\u001b[1;33m,\u001b[0m \u001b[0mvol\u001b[0m\u001b[1;33m=\u001b[0m\u001b[0mvol\u001b[0m\u001b[1;33m-\u001b[0m\u001b[0mh\u001b[0m\u001b[1;33m,\u001b[0m \u001b[0mtexp\u001b[0m\u001b[1;33m=\u001b[0m\u001b[0mtexp\u001b[0m\u001b[1;33m,\u001b[0m \u001b[0mcp_sign\u001b[0m\u001b[1;33m=\u001b[0m\u001b[1;36m1\u001b[0m\u001b[1;33m)\u001b[0m\u001b[1;33m\u001b[0m\u001b[0m\n\u001b[0;32m      4\u001b[0m \u001b[0mvega_numeric\u001b[0m \u001b[1;33m=\u001b[0m \u001b[1;33m(\u001b[0m\u001b[0mprice_up\u001b[0m \u001b[1;33m-\u001b[0m \u001b[0mprice_down\u001b[0m\u001b[1;33m)\u001b[0m\u001b[1;33m/\u001b[0m\u001b[1;33m(\u001b[0m\u001b[1;36m2\u001b[0m\u001b[1;33m*\u001b[0m\u001b[0mh\u001b[0m\u001b[1;33m)\u001b[0m\u001b[1;33m\u001b[0m\u001b[0m\n\u001b[0;32m      5\u001b[0m \u001b[1;33m\u001b[0m\u001b[0m\n",
      "\u001b[1;31mTypeError\u001b[0m: vega() missing 1 required positional argument: 'texp'"
     ]
    }
   ],
   "source": [
    "vega = bsm1.vega(strike, spot, texp, cp_sign=1)\n",
    "price_up = bsm.bsm_price(strike=strike, spot=spot, vol=vol+h, texp=texp, cp_sign=1)\n",
    "price_down = bsm.bsm_price(strike=strike, spot=spot, vol=vol-h, texp=texp, cp_sign=1)\n",
    "vega_numeric = (price_up - price_down)/(2*h)\n",
    "\n",
    "print(vega, vega_numeric)"
   ]
  },
  {
   "cell_type": "code",
   "execution_count": 44,
   "metadata": {},
   "outputs": [
    {
     "ename": "NameError",
     "evalue": "name 'vega' is not defined",
     "output_type": "error",
     "traceback": [
      "\u001b[1;31m---------------------------------------------------------------------------\u001b[0m",
      "\u001b[1;31mNameError\u001b[0m                                 Traceback (most recent call last)",
      "\u001b[1;32m<ipython-input-44-088422509929>\u001b[0m in \u001b[0;36m<module>\u001b[1;34m()\u001b[0m\n\u001b[1;32m----> 1\u001b[1;33m \u001b[1;32massert\u001b[0m\u001b[1;33m(\u001b[0m\u001b[0mabs\u001b[0m\u001b[1;33m(\u001b[0m\u001b[0mvega\u001b[0m \u001b[1;33m-\u001b[0m \u001b[0mvega_numeric\u001b[0m\u001b[1;33m)\u001b[0m \u001b[1;33m<\u001b[0m \u001b[1;36m1e-6\u001b[0m\u001b[1;33m)\u001b[0m\u001b[1;33m\u001b[0m\u001b[0m\n\u001b[0m",
      "\u001b[1;31mNameError\u001b[0m: name 'vega' is not defined"
     ]
    }
   ],
   "source": [
    "assert(abs(vega - vega_numeric) < 1e-6)"
   ]
  },
  {
   "cell_type": "markdown",
   "metadata": {
    "collapsed": true
   },
   "source": [
    "### Gamma\n",
    "Do similar verification"
   ]
  },
  {
   "cell_type": "code",
   "execution_count": 45,
   "metadata": {},
   "outputs": [
    {
     "ename": "TypeError",
     "evalue": "gamma() missing 1 required positional argument: 'texp'",
     "output_type": "error",
     "traceback": [
      "\u001b[1;31m---------------------------------------------------------------------------\u001b[0m",
      "\u001b[1;31mTypeError\u001b[0m                                 Traceback (most recent call last)",
      "\u001b[1;32m<ipython-input-45-44f7f8355695>\u001b[0m in \u001b[0;36m<module>\u001b[1;34m()\u001b[0m\n\u001b[1;32m----> 1\u001b[1;33m \u001b[0mgamma\u001b[0m \u001b[1;33m=\u001b[0m \u001b[0mbsm1\u001b[0m\u001b[1;33m.\u001b[0m\u001b[0mgamma\u001b[0m\u001b[1;33m(\u001b[0m\u001b[0mstrike\u001b[0m\u001b[1;33m,\u001b[0m \u001b[0mspot\u001b[0m\u001b[1;33m,\u001b[0m \u001b[0mtexp\u001b[0m\u001b[1;33m,\u001b[0m \u001b[0mcp_sign\u001b[0m\u001b[1;33m=\u001b[0m\u001b[1;36m1\u001b[0m\u001b[1;33m)\u001b[0m\u001b[1;33m\u001b[0m\u001b[0m\n\u001b[0m\u001b[0;32m      2\u001b[0m \u001b[1;33m\u001b[0m\u001b[0m\n\u001b[0;32m      3\u001b[0m \u001b[0mprice_up\u001b[0m \u001b[1;33m=\u001b[0m \u001b[0mbsm1\u001b[0m\u001b[1;33m.\u001b[0m\u001b[0mprice\u001b[0m\u001b[1;33m(\u001b[0m\u001b[0mstrike\u001b[0m\u001b[1;33m=\u001b[0m\u001b[0mstrike\u001b[0m\u001b[1;33m,\u001b[0m \u001b[0mspot\u001b[0m\u001b[1;33m=\u001b[0m\u001b[0mspot\u001b[0m\u001b[1;33m+\u001b[0m\u001b[0mh\u001b[0m\u001b[1;33m,\u001b[0m \u001b[0mtexp\u001b[0m\u001b[1;33m=\u001b[0m\u001b[0mtexp\u001b[0m\u001b[1;33m,\u001b[0m \u001b[0mcp_sign\u001b[0m\u001b[1;33m=\u001b[0m\u001b[1;36m1\u001b[0m\u001b[1;33m)\u001b[0m\u001b[1;33m\u001b[0m\u001b[0m\n\u001b[0;32m      4\u001b[0m \u001b[0mprice\u001b[0m \u001b[1;33m=\u001b[0m \u001b[0mbsm1\u001b[0m\u001b[1;33m.\u001b[0m\u001b[0mprice\u001b[0m\u001b[1;33m(\u001b[0m\u001b[0mstrike\u001b[0m\u001b[1;33m=\u001b[0m\u001b[0mstrike\u001b[0m\u001b[1;33m,\u001b[0m \u001b[0mspot\u001b[0m\u001b[1;33m=\u001b[0m\u001b[0mspot\u001b[0m\u001b[1;33m,\u001b[0m \u001b[0mtexp\u001b[0m\u001b[1;33m=\u001b[0m\u001b[0mtexp\u001b[0m\u001b[1;33m,\u001b[0m \u001b[0mcp_sign\u001b[0m\u001b[1;33m=\u001b[0m\u001b[1;36m1\u001b[0m\u001b[1;33m)\u001b[0m\u001b[1;33m\u001b[0m\u001b[0m\n\u001b[0;32m      5\u001b[0m \u001b[0mprice_down\u001b[0m \u001b[1;33m=\u001b[0m \u001b[0mbsm1\u001b[0m\u001b[1;33m.\u001b[0m\u001b[0mprice\u001b[0m\u001b[1;33m(\u001b[0m\u001b[0mstrike\u001b[0m\u001b[1;33m=\u001b[0m\u001b[0mstrike\u001b[0m\u001b[1;33m,\u001b[0m \u001b[0mspot\u001b[0m\u001b[1;33m=\u001b[0m\u001b[0mspot\u001b[0m\u001b[1;33m-\u001b[0m\u001b[0mh\u001b[0m\u001b[1;33m,\u001b[0m \u001b[0mtexp\u001b[0m\u001b[1;33m=\u001b[0m\u001b[0mtexp\u001b[0m\u001b[1;33m,\u001b[0m \u001b[0mcp_sign\u001b[0m\u001b[1;33m=\u001b[0m\u001b[1;36m1\u001b[0m\u001b[1;33m)\u001b[0m\u001b[1;33m\u001b[0m\u001b[0m\n",
      "\u001b[1;31mTypeError\u001b[0m: gamma() missing 1 required positional argument: 'texp'"
     ]
    }
   ],
   "source": [
    "gamma = bsm1.gamma(strike, spot, texp, cp_sign=1)\n",
    "\n",
    "price_up = bsm1.price(strike=strike, spot=spot+h, texp=texp, cp_sign=1)\n",
    "price = bsm1.price(strike=strike, spot=spot, texp=texp, cp_sign=1)\n",
    "price_down = bsm1.price(strike=strike, spot=spot-h, texp=texp, cp_sign=1)\n",
    "gamma_numeric = ( price_up - 2*price + price_down )/(h**2)\n",
    "\n",
    "print(gamma, gamma_numeric)"
   ]
  },
  {
   "cell_type": "code",
   "execution_count": null,
   "metadata": {
    "collapsed": true
   },
   "outputs": [],
   "source": [
    "assert(abs(gamma - gamma_numeric) < 1e-6)"
   ]
  }
 ],
 "metadata": {
  "anaconda-cloud": {},
  "kernelspec": {
   "display_name": "Python 3",
   "language": "python",
   "name": "python3"
  },
  "language_info": {
   "codemirror_mode": {
    "name": "ipython",
    "version": 3
   },
   "file_extension": ".py",
   "mimetype": "text/x-python",
   "name": "python",
   "nbconvert_exporter": "python",
   "pygments_lexer": "ipython3",
   "version": "3.6.5"
  }
 },
 "nbformat": 4,
 "nbformat_minor": 1
}
