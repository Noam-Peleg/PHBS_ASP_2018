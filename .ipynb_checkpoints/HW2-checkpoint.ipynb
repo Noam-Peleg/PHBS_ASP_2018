{
 "cells": [
  {
   "cell_type": "markdown",
   "metadata": {},
   "source": [
    "# HW 2: Corporate Bond Pricing (due by 9.21 Fri)"
   ]
  },
  {
   "cell_type": "markdown",
   "metadata": {},
   "source": [
    "We are going to compute the price of a corporate bond (subject to default) with Monte-Carlo simulation. Assume that \n",
    "* the default time of a company follows the exponential distribution with intensity $\\lambda=$__`def_rate`__. \n",
    "* the riskfree interest rate is $r_f=$__`rf_rate`__ and the maturity of the bond is $T=$__`mat`__. \n",
    "* in the case of default, you can recover some portion ($R=$__`recovery_rate`__) of the face value.\n",
    "* the coupon is 0%, i.e., it is a zero-coupon bond.\n",
    "* the face value of the bond is 1.0\n",
    "* use compound rate for discounting; the price of the default-free bond is $e^{-r_f T}$\n",
    "\n",
    "The Problem 1 of the [2017 ASP Midterm Exam](../files/ASP2017_Midterm.pdf) will be helpful.\n",
    "\n",
    "### Instruction to upload your HW\n",
    "* Create a repository named __`PHBS_ASP_2018`__ (and clone it to your PC)\n",
    "* Copy this file to __`PHBS_ASP_2018/HW2/HW2.ipynb`__  (Please use the same name for repository and ipynb file)\n",
    "* Adding more code.\n",
    "* Run your your code to make sure that there's no error.\n",
    "* Upload (commit and sync) your file."
   ]
  },
  {
   "cell_type": "markdown",
   "metadata": {},
   "source": [
    "### 1. First, let's create a pricing function and check the std "
   ]
  },
  {
   "cell_type": "code",
   "execution_count": 8,
   "metadata": {},
   "outputs": [],
   "source": [
    "import numpy as np"
   ]
  },
  {
   "cell_type": "code",
   "execution_count": 9,
   "metadata": {},
   "outputs": [],
   "source": [
    "def_rate = 0.1\n",
    "rf_rate = 0.03\n",
    "recovery = 0.3\n",
    "mat = 10"
   ]
  },
  {
   "cell_type": "markdown",
   "metadata": {},
   "source": []
  },
  {
   "cell_type": "code",
   "execution_count": 10,
   "metadata": {},
   "outputs": [
    {
     "data": {
      "text/plain": [
       "(9.595696163062215, 10.0)"
      ]
     },
     "execution_count": 10,
     "metadata": {},
     "output_type": "execute_result"
    }
   ],
   "source": [
    "# First generate exponential random numbers\n",
    "# Although you can generate directly using fault_time = np.random.exponential(scale=), let's use uniform random numbers.\n",
    "n_sample = 1000\n",
    "U = np.random.uniform(size=n_sample)\n",
    "default_time = -(1/def_rate)*np.log(U)\n",
    "\n",
    "# You can check if the RNs are correct by comparing the means\n",
    "(default_time.mean(), 1/def_rate)"
   ]
  },
  {
   "cell_type": "code",
   "execution_count": 12,
   "metadata": {},
   "outputs": [
    {
     "data": {
      "text/plain": [
       "0.4364757807333766"
      ]
     },
     "execution_count": 12,
     "metadata": {},
     "output_type": "execute_result"
    }
   ],
   "source": [
    "# Put your code here to price the corporate bond\n",
    "\n",
    "def corp_bond(mat=1, def_rate=0.03, rf_rate=0.04, recovery=0.3, n_sample=1000):  \n",
    "    U = np.random.uniform(size=n_sample)\n",
    "    default_time = -(1/def_rate)*np.log(U)\n",
    "\n",
    "    price = np.zeros(n_sample)\n",
    "    \n",
    "    for i in range(n_sample):\n",
    "        \n",
    "        if default_time[i] > mat:\n",
    "            price[i] = np.exp(-rf_rate*mat)\n",
    "        else:\n",
    "            price[i] = recovery*np.exp(-rf_rate*default_time[i])\n",
    "            \n",
    "    return np.mean(price)\n",
    "\n",
    "# Call your function\n",
    "corp_bond(mat, def_rate, rf_rate, recovery)\n",
    "\n",
    "\n"
   ]
  },
  {
   "cell_type": "code",
   "execution_count": 13,
   "metadata": {},
   "outputs": [
    {
     "name": "stdout",
     "output_type": "stream",
     "text": [
      "0.4404079774113997 0.0067743968819815766\n"
     ]
    }
   ],
   "source": [
    "# Find the mean and std by calling the function 100 times. \n",
    "\n",
    "price = np.zeros(100)\n",
    "\n",
    "for i in range(100): \n",
    "    price [i] = corp_bond(mat, def_rate, rf_rate, recovery)\n",
    "    price_100 = np.mean(price)\n",
    "    std = np.std(price)\n",
    "print(price_100, std)"
   ]
  },
  {
   "cell_type": "markdown",
   "metadata": {},
   "source": [
    "### 2. Now, let's improve the function by reducing the MC variations.\n",
    "1. Use antithetic method: If `U` is uniform random variable, so is `1-U`\n",
    "2. Also shift the RNs to match the mean, `1/def_rate`"
   ]
  },
  {
   "cell_type": "code",
   "execution_count": 14,
   "metadata": {},
   "outputs": [
    {
     "data": {
      "text/plain": [
       "(10.000000000000002, 10.0)"
      ]
     },
     "execution_count": 14,
     "metadata": {},
     "output_type": "execute_result"
    }
   ],
   "source": [
    "# For example, antithetic method mean\n",
    "n_sample = 10000\n",
    "U = np.random.uniform(size=n_sample)\n",
    "default_time = -(1/def_rate)*np.log(np.concatenate((U,1-U),axis=0))\n",
    "\n",
    "# Mean-matching means\n",
    "default_time += 1/def_rate-default_time.mean()\n",
    "(default_time.mean(), 1/def_rate)"
   ]
  },
  {
   "cell_type": "code",
   "execution_count": 17,
   "metadata": {},
   "outputs": [
    {
     "data": {
      "text/plain": [
       "0.4429280609832291"
      ]
     },
     "execution_count": 17,
     "metadata": {},
     "output_type": "execute_result"
    }
   ],
   "source": [
    "# No include the two new features: `antithetic` and `mean_match`\n",
    "\n",
    "def corp_bond_cv(mat=1, def_rate=0.03, rf_rate=0.04, recovery=0.3, n_sample=1000, antithetic=True, mean_match=True):\n",
    "    \n",
    "    U = np.random.uniform(size=n_sample)\n",
    "    \n",
    "    if(antithetic):\n",
    "        default_time = -(1/def_rate)*np.log(np.concatenate((U,1-U),axis=0))\n",
    "    if(mean_match):\n",
    "        default_time = -(1/def_rate)*np.log(U)\n",
    "        default_time += 1/def_rate-default_time.mean() \n",
    "    else:\n",
    "        default_time = -(1/def_rate)*np.log(U)\n",
    "    \n",
    "    price = np.zeros(n_sample)\n",
    "\n",
    "    for i in range(n_sample):\n",
    "        if default_time[i] > mat:\n",
    "            price[i] = np.exp(-rf_rate*mat)\n",
    "        else:\n",
    "            price[i] = recovery*np.exp(-rf_rate*default_time[i])\n",
    "            \n",
    "    return np.mean(price)\n",
    "\n",
    "corp_bond_cv(mat, def_rate, rf_rate, recovery)"
   ]
  },
  {
   "cell_type": "code",
   "execution_count": 18,
   "metadata": {},
   "outputs": [
    {
     "name": "stdout",
     "output_type": "stream",
     "text": [
      "0.4396301452027593 0.006934258758601964\n"
     ]
    }
   ],
   "source": [
    "# Find the mean and std by calling the function 100 times for (i) antithetic (ii) mean_match and (iii) both\n",
    "\n",
    "#ANTITHETIC \n",
    "\n",
    "price = np.zeros(100)\n",
    "\n",
    "for i in range(100): \n",
    "    price [i] = corp_bond_cv(mat, def_rate, rf_rate, recovery, antithetic=True, mean_match=False)\n",
    "    price_100 = np.mean(price)\n",
    "    std = np.std(price)\n",
    "print(price_100, std)"
   ]
  },
  {
   "cell_type": "code",
   "execution_count": 19,
   "metadata": {},
   "outputs": [
    {
     "name": "stdout",
     "output_type": "stream",
     "text": [
      "0.44066191803436405 0.004360105717674882\n"
     ]
    }
   ],
   "source": [
    "#MEAN MATCH\n",
    "\n",
    "price = np.zeros(100)\n",
    "\n",
    "for i in range(100): \n",
    "    price [i] = corp_bond_cv(mat, def_rate, rf_rate, recovery, antithetic=False, mean_match=True)\n",
    "    price_100 = np.mean(price)\n",
    "    std = np.std(price)\n",
    "print(price_100, std)"
   ]
  },
  {
   "cell_type": "code",
   "execution_count": 20,
   "metadata": {},
   "outputs": [
    {
     "name": "stdout",
     "output_type": "stream",
     "text": [
      "0.4405808754433824 0.005074298292399267\n"
     ]
    }
   ],
   "source": [
    "#BOTH\n",
    "\n",
    "price = np.zeros(100)\n",
    "\n",
    "for i in range(100): \n",
    "    price [i] = corp_bond_cv(mat, def_rate, rf_rate, recovery, antithetic=True, mean_match=True)\n",
    "    price_100 = np.mean(price)\n",
    "    std = np.std(price)\n",
    "print(price_100, std)"
   ]
  },
  {
   "cell_type": "markdown",
   "metadata": {
    "collapsed": true
   },
   "source": [
    "### 3. Finally, what is the analytic value of the corporate bond? How does it compare to your MC result above?"
   ]
  },
  {
   "cell_type": "code",
   "execution_count": 13,
   "metadata": {
    "collapsed": true
   },
   "outputs": [],
   "source": [
    "### Put the analytic expression for the corporate bond price"
   ]
  },
  {
   "cell_type": "markdown",
   "metadata": {},
   "source": [
    "#Analytic = Integral from 0 to maturity {recovery*exp(-rf_rate*default_time)*def_rate*exp(-def_rate*default_time)*default_time}+ exp(-rf_rate*mat)*exp(-def_rate*mat)\n",
    "#Default time changes to maturity since analytic expressions do not use default times"
   ]
  },
  {
   "cell_type": "code",
   "execution_count": 9,
   "metadata": {},
   "outputs": [],
   "source": [
    "from math import cos, exp, pi\n",
    "from scipy.integrate import quad\n",
    "import numpy as np\n",
    "\n",
    "def corp_bond(Z):\n",
    "    def_rate = 0.1\n",
    "    rf_rate = 0.03\n",
    "    recovery = 0.3\n",
    "    mat = 10\n",
    "    return recovery*exp(-rf_rate*Z)*def_rate*exp(-def_rate*Z)\n"
   ]
  },
  {
   "cell_type": "code",
   "execution_count": 13,
   "metadata": {},
   "outputs": [
    {
     "name": "stdout",
     "output_type": "stream",
     "text": [
      "(0.16787727853061246, 1.863812199360964e-15)\n"
     ]
    }
   ],
   "source": [
    "mat = 10\n",
    "def_rate = 0.1\n",
    "rf_rate = 0.03\n",
    "recovery = 0.3\n",
    "res = quad(corp_bond,0,mat)\n",
    "print(res)"
   ]
  },
  {
   "cell_type": "code",
   "execution_count": 16,
   "metadata": {},
   "outputs": [
    {
     "name": "stdout",
     "output_type": "stream",
     "text": [
      "0.44040907156462505\n"
     ]
    }
   ],
   "source": [
    "res1 = 0.16787727853061246\n",
    "price = exp(-rf_rate*mat)*exp(-def_rate*mat) + res1\n",
    "print(price)"
   ]
  },
  {
   "cell_type": "markdown",
   "metadata": {},
   "source": [
    "By reducing the MC variations, we have lowered our standard deviation in comparison to the analytic value. Although the answers are similar, the analytic expression will reveal a greater value (meaning more expensive) than that of a lower standard deviation. This would mean that the corporate bond is cheaper once the variance is lowered."
   ]
  }
 ],
 "metadata": {
  "anaconda-cloud": {},
  "celltoolbar": "Raw Cell Format",
  "kernelspec": {
   "display_name": "Python 3",
   "language": "python",
   "name": "python3"
  },
  "language_info": {
   "codemirror_mode": {
    "name": "ipython",
    "version": 3
   },
   "file_extension": ".py",
   "mimetype": "text/x-python",
   "name": "python",
   "nbconvert_exporter": "python",
   "pygments_lexer": "ipython3",
   "version": "3.6.5"
  }
 },
 "nbformat": 4,
 "nbformat_minor": 1
}
